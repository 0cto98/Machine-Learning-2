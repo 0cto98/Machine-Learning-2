{
 "cells": [
  {
   "cell_type": "markdown",
   "metadata": {},
   "source": [
    "# TP1 : Linear regression"
   ]
  },
  {
   "cell_type": "markdown",
   "metadata": {},
   "source": [
    "The purpose of this work is to implement least square linear regression to medical data. The problem is based on an example described in the book by Hastie & Tibshirani (2009) pp. 3-4 & 49-63. Data come from a study published by Stamey et al. (1989). This study aims at the prediction of the level of prostate specific antigen, denoted by `lpsa` below, from the\n",
    "results of clinical exams. These exams are carried out before a possible\n",
    "prostatectomy.\n",
    "\n",
    "The measurements are log cancer volume `lcavol`, log prostate \n",
    "weight `lweight`, age of the patient `age`, log of benign prostatic \n",
    "hyperplasia amount `lbph`, seminal vesicle invasion `svi`, log of capsular \n",
    "penetration `lcp`, Gleason score `gleason`, and percent of Gleason scores 4 or \n",
    "5 `pgg45`. The variables `svi` and `gleason` are categorical, others are\n",
    "quantitative. There are `p=8` entries.\n",
    "The work is decomposed in the following tasks:\n",
    "\n",
    "* read and format the data : extraction of the training and test sets,\n",
    "* apply least square regression method to predict `lpsa` from the entries,\n",
    "* study the estimated error on the test set (validation),\n",
    "* identify the most significant entries by using a rejection test,\n",
    "* apply regularized least square regression method (ridge regression),\n",
    "* search for an optimal regularization parameter thanks to\n",
    "cross-validation."
   ]
  },
  {
   "cell_type": "markdown",
   "metadata": {},
   "source": [
    "When the lab session is finished :\n",
    "* save the notebook\n",
    "* save as HTML\n",
    "* ZIP your current folder and upload it on Moodle.\n",
    "\n",
    "No official grades for lab session 1. Only feedbacks.\n",
    "Lab session notebook = starting point only… for your own explorations!\n",
    "\n",
    "**Write comments on everything you do, every numerical result you get!**\n",
    "\n",
    "Lab session 1 is to be finished before Sunday Nov. 29th\n"
   ]
  },
  {
   "cell_type": "code",
   "execution_count": 1,
   "metadata": {},
   "outputs": [],
   "source": [
    "import csv\n",
    "# import os\n",
    "from pylab import *\n",
    "import numpy as np\n",
    "from numpy import linalg as la"
   ]
  },
  {
   "cell_type": "markdown",
   "metadata": {},
   "source": [
    "## Read & Normalize data\n",
    "Data are stored in ASCII format: \n",
    "\n",
    "* the first column enumerates the data from 1 to 97 (97 male subjects). \n",
    "* columns 2 to 9 contain the entries themselves. \n",
    "* column 10 contains target values. \n",
    "* column 11 contains label 1 for the training set, \n",
    "and 0 for the test set."
   ]
  },
  {
   "cell_type": "code",
   "execution_count": 2,
   "metadata": {},
   "outputs": [],
   "source": [
    "#%% To read data from spaced separated float numbers\n",
    "# x, y = np.loadtxt(c, delimiter=',', usecols=(0, 2), unpack=True)\n",
    "\n",
    "data_init = np.loadtxt('prostate_data_sansheader.txt')\n",
    "\n",
    "data = data_init[:,1:]   # we get rid of the indices (1 to 97)\n",
    "#%% Extraction of training/test sets\n",
    "Itrain = np.nonzero(data[:,-1]==1)\n",
    "data_train=data[Itrain]   # original data\n",
    "\n",
    "Itest = np.nonzero(data[:,-1]==0)\n",
    "data_test = data[Itest]   # original data"
   ]
  },
  {
   "cell_type": "markdown",
   "metadata": {},
   "source": [
    "**Normalization of the data** *with respect to the mean and standard deviation of the training set*."
   ]
  },
  {
   "cell_type": "code",
   "execution_count": 30,
   "metadata": {},
   "outputs": [],
   "source": [
    "M_train = data_train\n",
    "M_test = data_test \n",
    "moy = np.zeros((8,))\n",
    "sigma = np.zeros((8,))\n",
    "\n",
    "# With a FOR loop :\n",
    "for k in range(8): # 8 columns of entries\n",
    "    moy[k]=np.mean(data_train[:,k])\n",
    "    sigma[k] = np.std(data_train[:,k])\n",
    "    M_train[:,k] = (data_train[:,k]-moy[k])/sigma[k] # normalized: centered, variance 1\n",
    "    M_test[:,k] = (data_test[:,k]-moy[k])/sigma[k]   # same normalization for test set\n",
    "M_train = M_train[:,:8]\n",
    "M_test = M_test[:,:8]"
   ]
  },
  {
   "cell_type": "code",
   "execution_count": 32,
   "metadata": {},
   "outputs": [],
   "source": [
    "# Alternative WITHOUT FOR\n",
    "normalize = lambda vec: (vec-np.mean(vec))/np.std(vec)    # inline function \n",
    "M_train = np.array( [ normalize(vec) for vec in data_train[:,0:8].T ] ).T  # iterate on vec direct / ARRAY not LIST\n",
    "moy = np.array( [ np.mean(vec) for vec in data_train[:,0:8].T ] )\n",
    "sigma = np.array( [ np.std(vec) for vec in data_train[:,0:8].T ] )\n",
    "\n",
    "M_test = np.array([ (data_test[:,k]-moy[k])/sigma[k] for k in range(M_train.shape[1]) ] ).T"
   ]
  },
  {
   "cell_type": "markdown",
   "metadata": {},
   "source": [
    "# Part 1 : simple least square regression"
   ]
  },
  {
   "cell_type": "markdown",
   "metadata": {},
   "source": [
    "## Preliminary questions\n",
    " \n",
    " * Compute the autocovariance matrix from the training set.\n",
    " * Observe carefully & Comment. What kind of information can you get ? "
   ]
  },
  {
   "cell_type": "code",
   "execution_count": 48,
   "metadata": {},
   "outputs": [
    {
     "name": "stdout",
     "output_type": "stream",
     "text": [
      "(67, 8)\n",
      "(30, 8)\n",
      "(67, 67)\n",
      "[[ 2.59091440e-01  5.56808516e-02 -2.18233004e-02 ...  1.14012217e-01\n",
      "   4.30713485e-01  2.28185363e-01]\n",
      " [ 5.56808516e-02  1.61993149e-01  6.19857772e-02 ...  1.63856262e-02\n",
      "  -1.09639718e-01  4.96728047e-04]\n",
      " [-2.18233004e-02  6.19857772e-02  1.05482152e+00 ... -2.76611133e-02\n",
      "  -1.02833136e+00 -9.32521484e-02]\n",
      " ...\n",
      " [ 1.14012217e-01  1.63856262e-02 -2.76611133e-02 ...  7.29464977e-01\n",
      "   9.04817254e-01  2.94841756e-01]\n",
      " [ 4.30713485e-01 -1.09639718e-01 -1.02833136e+00 ...  9.04817254e-01\n",
      "   2.66979972e+00  5.39768383e-01]\n",
      " [ 2.28185363e-01  4.96728047e-04 -9.32521484e-02 ...  2.94841756e-01\n",
      "   5.39768383e-01  3.94588677e-01]]\n"
     ]
    },
    {
     "data": {
      "image/png": "[encoded data removed]",
      "text/plain": [
       "<Figure size 432x288 with 1 Axes>"
      ]
     },
     "metadata": {
      "needs_background": "light"
     },
     "output_type": "display_data"
    }
   ],
   "source": [
    "# Preliminary questions\n",
    "\n",
    "print(np.shape(M_train))\n",
    "print(np.shape(M_test))\n",
    "cov = np.cov(M_train)\n",
    "plt.imshow(cov)\n",
    "print(np.shape(cov))\n",
    "print(cov)"
   ]
  },
  {
   "cell_type": "markdown",
   "metadata": {},
   "source": [
    "## Exercise 1 : least square regression \n",
    " * Build the matrix of features `X_train` for the training set, the first column is made of ones.\n",
    " * Estimate the regression vector `beta_hat` (estimates= `X*beta_hat`)\n",
    " _Indication: you may either use the function `inv` or another more efficient way to compute $A^{-1}B$ (think of `A\\B`)._ \n",
    " * What is the value of the first coefficient `beta_hat[0]` ? What does it correspond to ?\n",
    " * Estimate the prediction error (quadratic error) from the test set.\n",
    "\n",
    "\n",
    "*Indication: be careful of using `X_test` defined above, normalized w.r.t. the training data set. You can estimate this error by using:*"
   ]
  },
  {
   "cell_type": "code",
   "execution_count": 49,
   "metadata": {},
   "outputs": [],
   "source": [
    "t_test = data_test[:,8]   # target column\n",
    "N_test = data_test.shape[0]\n",
    "X_test = np.concatenate((np.ones((N_test,1)), M_test[:,0:8]), axis=1) \n",
    "# don't forget the 1st column of ones and normalization !"
   ]
  },
  {
   "cell_type": "code",
   "execution_count": 51,
   "metadata": {},
   "outputs": [],
   "source": [
    "# Exercise 1\n",
    "N_train = data_train.shape[0]\n",
    "X_train = np.concatenate((np.ones((N_train,1)), M_train[:,0:8]), axis=1)"
   ]
  },
  {
   "cell_type": "code",
   "execution_count": null,
   "metadata": {},
   "outputs": [],
   "source": [
    "#Compute X_dag = (X_transpose*X)^-1*X_transpose\n",
    "X_train_dag = np.dot(np.linalg.inv(np.dot(np.transpose(X_train),X_train)),np.transpose(X_train))\n",
    "#Then beta_hat = X_dag*t\n",
    "beta_hat = np.dot(X_train_dag,t_train)"
   ]
  },
  {
   "cell_type": "markdown",
   "metadata": {},
   "source": [
    "## Rejection test, computation of Z-scores\n",
    "Now we turn to the selection of the most significant entries so that our predictor be more robust. The essential idea is that our estimates will be more robust if only the most significant entries are taken into account. As a consequence, note that we will *reduce the dimension* of the problem from |p=8| to some smaller dimension. The present approach uses a statistical test to decide whether the regression coefficient corresponding to some entry is significantly non-zero. Then we can decide either to put non significant coefficients to zero, or to select the significant entries only and estimate the new reduced regression vector.\n",
    "\n",
    "Let's assume that target values are noisy due to some white Gaussian\n",
    "noise with variance $\\sigma^2$ (see Hastie & Tibshirani p. 47). One can show that the estimated regression vector |beta_hat| is also Gaussian with variance\n",
    "\n",
    "$$ var (\\widehat{\\beta}) = (X^TX)^{-1}\\sigma^2.$$  \n",
    "\n",
    "One can also show that the estimator of the variance (from the training set)\n",
    "\n",
    "$$\\widehat{\\sigma^2}=\\frac{1}{(N-p-1)}\\sum (t_n-\\widehat{t}_n)^2$$\n",
    "\n",
    "obeys a Chi-2 distribution. As a consequence a Chi-square statistical test can be used to determine whether some coefficient $\\beta_j$ is\n",
    "significantly non-zero. To this aim, one defines the variables $z_j$\n",
    "named Z-scores which in turn obey a Fisher law, also called\n",
    "$t$-distribution, which are often used in statistics:\n",
    "\n",
    "$$ z_j = \\frac{\\beta_j}{\\widehat{\\sigma}\\sqrt{v_j}} $$\n",
    "\n",
    "where $v_j$ is the $j$-th diagonal element of the matrix $(X^TX)^{-1}$.\n",
    "For sake of simplicity, we will consider that the null hypothesis of\n",
    "$\\beta_j$ is rejected with probability 95% if the Z-score is greater than 2."
   ]
  },
  {
   "cell_type": "markdown",
   "metadata": {},
   "source": [
    "## Exercise 2\n",
    "1. Compute the Z-scores and select the most significant entries.\n",
    "2. Estimate the prediction error over the test set if only these significant \n",
    "entries are taken into account for regression by putting other regression \n",
    "coefficients to zero.\n",
    "3. Estimate the new regression vector when only the significant features\n",
    "are taken into account.\n",
    "4. Compare to previous results (Exercise 1).\n",
    "\n",
    "*Indication 1 : to sort a vector `Z` in descending order*\n",
    "`val = np.sort(np.abs(Z))[-1:0:-1]`\n",
    "\n",
    "\n",
    "*Indication 2 :* to extract the diagonal of a matrix,\n",
    "`vXX = np.diag(inv(X.T.dot(X),k=0)`"
   ]
  },
  {
   "cell_type": "code",
   "execution_count": 8,
   "metadata": {},
   "outputs": [],
   "source": [
    "# Exercise 2"
   ]
  },
  {
   "cell_type": "markdown",
   "metadata": {},
   "source": [
    "# Part 2: Regularized least squares\n",
    "This part deals with regularized least square regression. We denote\n",
    "by `beta_hat_reg` the resulting coefficients. This approach is an alternative to the selection based on statistical tests above. The idea is now to penalize large values of regression coefficients, *except for the bias*.\n",
    "\n",
    "We use the result:\n",
    "\n",
    "$$\\hat{\\beta} = (\\lambda I_p + X_c^T X_c)^{-1} X_c^T t_c$$\n",
    "\n",
    "where $X_c$ contains the normalized entries of the training data set with \n",
    "no column of ones (the bias should no be penalized and is processed). \n",
    "The targets `t_c` are therefore also centered, `t_c=t-mean(t)`.\n",
    " \n",
    "First, we estimate the bias $t_0$ to center the targets which yields the coefficient $\\beta_0$, that is `beta_hat_reg[0]` in Python.\n",
    "\n",
    "*Remark : the bias is estimated as the empirical average of targets.\n",
    "For tests, entries should be normalized with respect to the means and\n",
    "variances of the training data set (see exercise 3.5 p. 95 in Hastie & Tibshirani). Then work on the vector of entries with no column of ones.*"
   ]
  },
  {
   "cell_type": "markdown",
   "metadata": {},
   "source": [
    "## Exercise 3\n",
    "1. Use _ridge regression_ for penalty `lambda = 25` to estimate the regression vector. \n",
    "2. Estimate the prediction error from the test set.\n",
    "3. Compare the results (coefficients $\\beta$, error...) to previous ones.\n",
    "4. You may also compare these results to the result of best subset selection below:\n",
    "\n",
    "`beta_best = [2.477 0.74 0.316 0 0 0 0 0 0]`.\n",
    "\n",
    "*Indication : a simple way to obtain predictions for the test data set is the code below:*"
   ]
  },
  {
   "cell_type": "code",
   "execution_count": 9,
   "metadata": {},
   "outputs": [
    {
     "ename": "NameError",
     "evalue": "name 'beta_hat_reg' is not defined",
     "output_type": "error",
     "traceback": [
      "\u001b[1;31m---------------------------------------------------------------------------\u001b[0m",
      "\u001b[1;31mNameError\u001b[0m                                 Traceback (most recent call last)",
      "\u001b[1;32m<ipython-input-9-fac8b125c1a2>\u001b[0m in \u001b[0;36m<module>\u001b[1;34m\u001b[0m\n\u001b[0;32m      5\u001b[0m \u001b[0mX_test\u001b[0m \u001b[1;33m=\u001b[0m \u001b[0mnp\u001b[0m\u001b[1;33m.\u001b[0m\u001b[0mhstack\u001b[0m\u001b[1;33m(\u001b[0m\u001b[1;33m(\u001b[0m\u001b[0mnp\u001b[0m\u001b[1;33m.\u001b[0m\u001b[0mones\u001b[0m\u001b[1;33m(\u001b[0m\u001b[1;33m(\u001b[0m\u001b[0mN_test\u001b[0m\u001b[1;33m,\u001b[0m\u001b[1;36m1\u001b[0m\u001b[1;33m)\u001b[0m\u001b[1;33m)\u001b[0m\u001b[1;33m,\u001b[0m \u001b[0mM_test\u001b[0m\u001b[1;33m[\u001b[0m\u001b[1;33m:\u001b[0m\u001b[1;33m,\u001b[0m\u001b[1;36m0\u001b[0m\u001b[1;33m:\u001b[0m\u001b[1;36m8\u001b[0m\u001b[1;33m]\u001b[0m\u001b[1;33m)\u001b[0m\u001b[1;33m)\u001b[0m\u001b[1;33m\u001b[0m\u001b[1;33m\u001b[0m\u001b[0m\n\u001b[0;32m      6\u001b[0m \u001b[1;31m# Here the 1st column of X_test is a column of ones.\u001b[0m\u001b[1;33m\u001b[0m\u001b[1;33m\u001b[0m\u001b[1;33m\u001b[0m\u001b[0m\n\u001b[1;32m----> 7\u001b[1;33m \u001b[0mt_hat_reg\u001b[0m \u001b[1;33m=\u001b[0m \u001b[0mX_test\u001b[0m\u001b[1;33m.\u001b[0m\u001b[0mdot\u001b[0m\u001b[1;33m(\u001b[0m\u001b[0mbeta_hat_reg\u001b[0m\u001b[1;33m)\u001b[0m\u001b[1;33m\u001b[0m\u001b[1;33m\u001b[0m\u001b[0m\n\u001b[0m",
      "\u001b[1;31mNameError\u001b[0m: name 'beta_hat_reg' is not defined"
     ]
    }
   ],
   "source": [
    "t = data_train[:,8]   # column of targets\n",
    "t0 = np.mean(t)\n",
    "\n",
    "N_test = data_test.shape[0]\n",
    "X_test = np.hstack((np.ones((N_test,1)), M_test[:,0:8]))  \n",
    "# Here the 1st column of X_test is a column of ones.\n",
    "t_hat_reg = X_test.dot(beta_hat_reg)"
   ]
  },
  {
   "cell_type": "code",
   "execution_count": null,
   "metadata": {},
   "outputs": [],
   "source": [
    "# Exercise 3"
   ]
  },
  {
   "cell_type": "markdown",
   "metadata": {},
   "source": [
    "# Part 3: Cross-Validation \n",
    "\n",
    "## How to choose lambda from the training data set only ? \n",
    "\n",
    "The idea is to decompose the training set in 2 subsets: one subset for\n",
    "linear regression (say 9/10 of the data), the other to estimate the prediction error (say 1/10 of the data).\n",
    "\n",
    "We can repeat this operation 10 times over the 10 possible couples of\n",
    "subsets to estimate the average prediction error. We will choose the\n",
    "value of `lambda` which minimizes this error. The algorithm goes as\n",
    "follows:\n",
    "\n",
    "For the 10 cross-validation cases\n",
    "    \n",
    "    Extraction of test & training subsets `testset` & `trainset`\n",
    "    \n",
    "    For lambda in 0:40\n",
    "        Estimate `beta_hat` from normalized `trainset` (mean=0, var=1)\n",
    "        Estimate the error from  `testset`\n",
    "    EndFor lambda\n",
    "\n",
    "EndFor 10 cases\n",
    "\n",
    "Compute the average error for each lambda\n",
    "\n",
    "Choose `lambda` which minimizes the error \n"
   ]
  },
  {
   "cell_type": "markdown",
   "metadata": {},
   "source": [
    "## Exercise 4\n",
    "* Use 6-fold cross-validation in the present study to optimize the choice of `lambda`. \n",
    "Try values of `lambda` ranging from 0 to 40 for instance (0:40).\n",
    "* Plot the estimated error as a function of `lambda`.\n",
    "* Propose a well chosen value of `lambda` and give the estimated corresponding\n",
    "error on the test set.\n",
    "* Comment on your results.\n",
    "\n",
    "*Indication 1 : think of shuffling the dataset first.*\n",
    "\n",
    "*Indication 2 : you can build 6 training and test subsets by using the code below*"
   ]
  },
  {
   "cell_type": "code",
   "execution_count": null,
   "metadata": {},
   "outputs": [],
   "source": [
    "lmax = 40\n",
    "lambda_pos = arange(0,lmax+1) \n",
    "\n",
    "N_test = 10\n",
    "m=np.zeros(8)\n",
    "s = np.zeros(8)\n",
    "X_traink = np.zeros((X_train.shape[0]-N_test,8))\n",
    "X_testk = np.zeros((N_test,8))\n",
    "erreur = np.zeros((6,lmax+1))\n",
    "erreur_rel = np.zeros((6,lmax+1))"
   ]
  },
  {
   "cell_type": "code",
   "execution_count": null,
   "metadata": {},
   "outputs": [],
   "source": [
    "# Exercise 4 \n",
    "for p in range(6):   # loop on test subsets\n",
    "    # extraction of testset\n",
    "    testset  = data_train[arange(p*N_test,(p+1)*N_test),0:9] \n",
    "    # extraction of trainset\n",
    "    trainset = data_train[hstack((arange(p*N_test),arange((p+1)*N_test,data_train.shape[0]))),0:9] \n",
    "    # normalization of entries, \n",
    "    # ..."
   ]
  },
  {
   "cell_type": "code",
   "execution_count": null,
   "metadata": {},
   "outputs": [],
   "source": [
    "# Exercise 4 ---------------\n",
    "# ...\n",
    "# averaged error on the 6 training/test sets ?\n",
    "# averaged error on the 6 training/test sets ?\n",
    "# standard variation of this error estimate ?\n",
    "\n",
    "# print(erreur_lambda, std_erreur_lambda, erreur_rel_lambda)\n"
   ]
  },
  {
   "cell_type": "code",
   "execution_count": null,
   "metadata": {},
   "outputs": [],
   "source": [
    "# Exercise 4 FIGURE ---------------\n",
    "# ...\n"
   ]
  },
  {
   "cell_type": "code",
   "execution_count": null,
   "metadata": {},
   "outputs": [],
   "source": [
    "# Exercise 4 (continued)"
   ]
  },
  {
   "cell_type": "code",
   "execution_count": null,
   "metadata": {},
   "outputs": [],
   "source": [
    "x = [-2.1, -1,  4.3]\n",
    "y = [3,  1.1,  0.12]\n",
    "X = np.stack((x, y), axis=0)\n",
    "print(X)\n",
    "print(np.cov(X))\n",
    "print(np.cov(x, y))\n",
    "print(np.cov(x))"
   ]
  }
 ],
 "metadata": {
  "kernelspec": {
   "display_name": "Python 3",
   "language": "python",
   "name": "python3"
  },
  "language_info": {
   "codemirror_mode": {
    "name": "ipython",
    "version": 3
   },
   "file_extension": ".py",
   "mimetype": "text/x-python",
   "name": "python",
   "nbconvert_exporter": "python",
   "pygments_lexer": "ipython3",
   "version": "3.8.3"
  }
 },
 "nbformat": 4,
 "nbformat_minor": 2
}
